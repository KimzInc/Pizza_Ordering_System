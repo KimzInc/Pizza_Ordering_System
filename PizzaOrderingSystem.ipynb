{
 "cells": [
  {
   "cell_type": "code",
   "execution_count": 1,
   "id": "05c9c47c-054d-4e76-9c8f-f388a5593634",
   "metadata": {},
   "outputs": [
    {
     "name": "stdout",
     "output_type": "stream",
     "text": [
      "Menu:\n",
      "Margherita: $8\n",
      "Pepperoni: $10\n",
      "Vegetarian: $9\n"
     ]
    },
    {
     "name": "stdin",
     "output_type": "stream",
     "text": [
      "Do you want to know previous deliveries? (yes/no):  no\n"
     ]
    },
    {
     "name": "stdout",
     "output_type": "stream",
     "text": [
      "Place your order (type 'done' when finished):\n"
     ]
    },
    {
     "name": "stdin",
     "output_type": "stream",
     "text": [
      "Enter item name:  Margherita\n",
      "Enter item name:  done\n"
     ]
    },
    {
     "name": "stdout",
     "output_type": "stream",
     "text": [
      "Order Summary:\n",
      "Margherita: $8\n",
      "Total Cost: $8\n"
     ]
    },
    {
     "name": "stdin",
     "output_type": "stream",
     "text": [
      "Enter discount code (if any):  SAVE10\n"
     ]
    },
    {
     "name": "stdout",
     "output_type": "stream",
     "text": [
      "Discount applied: $10\n"
     ]
    },
    {
     "name": "stdin",
     "output_type": "stream",
     "text": [
      "Select delivery option (pickup/delivery):  pickup\n",
      "Enter your name:  jane smart\n",
      "Select payment method (cash/card):  cash\n"
     ]
    },
    {
     "name": "stdout",
     "output_type": "stream",
     "text": [
      "Customer Details Recorded Successfully!\n",
      "Thank you for ordering with us.\n"
     ]
    }
   ],
   "source": [
    "import sqlite3\n",
    "\n",
    "\n",
    "def record_customer_details():\n",
    "    name = input(\"Enter your name: \")\n",
    "    return name\n",
    "\n",
    "\n",
    "class PizzaOrderingSystem:\n",
    "    def __init__(self):\n",
    "        self.menu = {\n",
    "            \"Margherita\": 8,\n",
    "            \"Pepperoni\": 10,\n",
    "            \"Vegetarian\": 9\n",
    "        }\n",
    "        self.discount_codes = {\n",
    "            \"SAVE10\": 10,\n",
    "            \"DEAL15\": 15\n",
    "        }\n",
    "        # the code connects to sqlite database named pizza_biz.db\n",
    "        # it makes it easy for application user to retrieve data later\n",
    "        self.connection = sqlite3.connect('pizza_biz.db')\n",
    "        self.cursor = self.connection.cursor()\n",
    "        self.create_tables()\n",
    "\n",
    "    # create orders table for database\n",
    "    def create_tables(self):\n",
    "        self.cursor.execute('''CREATE TABLE IF NOT EXISTS orders (\n",
    "                                id INTEGER PRIMARY KEY,\n",
    "                                name TEXT,\n",
    "                                items TEXT,\n",
    "                                total_cost REAL,\n",
    "                                delivery_option TEXT,\n",
    "                                delivery_address TEXT,\n",
    "                                payment_method TEXT,\n",
    "                                card_number TEXT,\n",
    "                                expiry_date TEXT,\n",
    "                                cvv TEXT\n",
    "                            )''')\n",
    "        self.connection.commit()\n",
    "\n",
    "    def display_menu(self):\n",
    "        print(\"Menu:\")\n",
    "        for item, price in self.menu.items():\n",
    "            print(f\"{item}: ${price}\")\n",
    "\n",
    "    def place_order(self):\n",
    "        order = []\n",
    "        total_cost = 0\n",
    "\n",
    "        print(\"Place your order (type 'done' when finished):\")\n",
    "        while True:\n",
    "            item = input(\"Enter item name: \")\n",
    "            if item.lower() == 'done':\n",
    "                break\n",
    "            if item not in self.menu:\n",
    "                print(\"Invalid item! Please choose from the menu.\")\n",
    "                continue\n",
    "            order.append(item)\n",
    "            total_cost += self.menu[item]\n",
    "\n",
    "        print(\"Order Summary:\")\n",
    "        for item in order:\n",
    "            print(f\"{item}: ${self.menu[item]}\")\n",
    "        print(f\"Total Cost: ${total_cost}\")\n",
    "\n",
    "        return order, total_cost\n",
    "\n",
    "    def apply_discount(self, total_cost):\n",
    "        discount_code = input(\"Enter discount code (if any): \")\n",
    "        if discount_code in self.discount_codes:\n",
    "            discount = self.discount_codes[discount_code]\n",
    "            total_cost -= discount\n",
    "            print(f\"Discount applied: ${discount}\")\n",
    "        else:\n",
    "            print(\"Invalid discount code!\")\n",
    "\n",
    "        return total_cost\n",
    "\n",
    "    def select_delivery_option(self):\n",
    "        delivery_option = input(\"Select delivery option (pickup/delivery): \")\n",
    "        if delivery_option.lower() == 'delivery':\n",
    "            delivery_address = input(\"Enter delivery address: \")\n",
    "            return delivery_option, delivery_address\n",
    "        elif delivery_option.lower() == 'pickup':\n",
    "            return delivery_option, None\n",
    "        else:\n",
    "            print(\"Invalid option! Please select pickup or delivery.\")\n",
    "            return self.select_delivery_option()\n",
    "\n",
    "    def select_payment_method(self):\n",
    "        payment_method = input(\"Select payment method (cash/card): \")\n",
    "        if payment_method.lower() == 'cash':\n",
    "            return payment_method, None\n",
    "        elif payment_method.lower() == 'card':\n",
    "            card_number = input(\"Enter card number: \")\n",
    "            expiry_date = input(\"Enter expiry date: \")\n",
    "            cvv = input(\"Enter CVV: \")\n",
    "            return payment_method, card_number, expiry_date, cvv\n",
    "        else:\n",
    "            print(\"Invalid payment method!\")\n",
    "            return self.select_payment_method()\n",
    "\n",
    "    def record_payment_details(self):\n",
    "        selected_method = self.select_payment_method()\n",
    "        if selected_method[0] == 'card':\n",
    "            payment_method, card_number, expiry_date, cvv = selected_method\n",
    "        else:\n",
    "            payment_method = selected_method\n",
    "            card_number, expiry_date, cvv = None, None, None  # Set card details to None for cash payment\n",
    "        return payment_method, card_number, expiry_date, cvv\n",
    "\n",
    "    def store_customer_details(self, name, order, total_cost, delivery_option, delivery_address, payment_method,\n",
    "                               card_number, expiry_date, cvv):\n",
    "        # convert payment method from tuple to string if payment method is cash\n",
    "        payment_method_to_str = payment_method[0] if isinstance(payment_method, tuple) else payment_method\n",
    "        if delivery_address is None:\n",
    "            delivery_address = ''  # Assign an empty string if delivery_address is None\n",
    "        self.cursor.execute('''INSERT INTO orders \n",
    "                              (name, items, total_cost, delivery_option, delivery_address, payment_method, card_number, \n",
    "                              expiry_date, cvv) \n",
    "                              VALUES (?, ?, ?, ?, ?, ?, ?, ?, ?)''',\n",
    "                            (name, ', '.join(order), total_cost, delivery_option, delivery_address,\n",
    "                             payment_method_to_str,\n",
    "                             card_number, expiry_date, cvv))\n",
    "        self.connection.commit()\n",
    "        print(\"Customer Details Recorded Successfully!\")\n",
    "        print(\"Thank you for ordering with us.\")\n",
    "\n",
    "    def check_previous_deliveries(self):\n",
    "        choice = input(\"Do you want to know previous deliveries? (yes/no): \")\n",
    "        if choice.lower() == 'yes':\n",
    "            self.display_previous_deliveries()\n",
    "        elif choice.lower() == 'no':\n",
    "            pass\n",
    "        else:\n",
    "            print(\"Invalid choice! Please enter 'yes' or 'no'.\")\n",
    "            return self.check_previous_deliveries()\n",
    "\n",
    "    def display_previous_deliveries(self):\n",
    "        self.cursor.execute(\"SELECT * FROM orders\")\n",
    "        orders = self.cursor.fetchall()\n",
    "        if orders:\n",
    "            print(\"Previous Deliveries:\")\n",
    "            for order in orders:\n",
    "                print(f\"Order ID: {order[0]}, Name: {order[1]}, Items: {order[2]}, Total Cost: ${order[3]}\")\n",
    "        else:\n",
    "            print(\"No previous deliveries found.\")\n",
    "\n",
    "    def place_order_flow(self):\n",
    "        self.display_menu()\n",
    "        self.check_previous_deliveries()  # Ask user if they want to know previous deliveries\n",
    "        order, total_cost = self.place_order()\n",
    "        total_cost = self.apply_discount(total_cost)\n",
    "        delivery_option, delivery_address = self.select_delivery_option()\n",
    "        name = record_customer_details()\n",
    "        payment_method, card_number, expiry_date, cvv = self.record_payment_details()\n",
    "        self.store_customer_details(name, order, total_cost, delivery_option, delivery_address, payment_method,\n",
    "                                    card_number, expiry_date, cvv)\n",
    "\n",
    "\n",
    "# Main program\n",
    "if __name__ == \"__main__\":\n",
    "    pizza_ordering_system = PizzaOrderingSystem()\n",
    "    pizza_ordering_system.place_order_flow()\n"
   ]
  },
  {
   "cell_type": "code",
   "execution_count": null,
   "id": "b459e03c-ced8-4b63-874f-6078927a1f28",
   "metadata": {},
   "outputs": [],
   "source": []
  }
 ],
 "metadata": {
  "kernelspec": {
   "display_name": "Python 3 (ipykernel)",
   "language": "python",
   "name": "python3"
  },
  "language_info": {
   "codemirror_mode": {
    "name": "ipython",
    "version": 3
   },
   "file_extension": ".py",
   "mimetype": "text/x-python",
   "name": "python",
   "nbconvert_exporter": "python",
   "pygments_lexer": "ipython3",
   "version": "3.8.10"
  }
 },
 "nbformat": 4,
 "nbformat_minor": 5
}
